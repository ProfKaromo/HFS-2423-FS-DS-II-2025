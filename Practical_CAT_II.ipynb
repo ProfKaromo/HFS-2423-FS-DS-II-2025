{
  "nbformat": 4,
  "nbformat_minor": 0,
  "metadata": {
    "colab": {
      "provenance": [],
      "authorship_tag": "ABX9TyOr8Co/F4iR+GZI6XfZrKp4",
      "include_colab_link": true
    },
    "kernelspec": {
      "name": "python3",
      "display_name": "Python 3"
    },
    "language_info": {
      "name": "python"
    }
  },
  "cells": [
    {
      "cell_type": "markdown",
      "metadata": {
        "id": "view-in-github",
        "colab_type": "text"
      },
      "source": [
        "<a href=\"https://colab.research.google.com/github/ProfKaromo/HFS-2423-FS-DS-II-2025/blob/main/Practical_CAT_II.ipynb\" target=\"_parent\"><img src=\"https://colab.research.google.com/assets/colab-badge.svg\" alt=\"Open In Colab\"/></a>"
      ]
    },
    {
      "cell_type": "code",
      "execution_count": 8,
      "metadata": {
        "colab": {
          "base_uri": "https://localhost:8080/"
        },
        "id": "1-qKGTMBcPib",
        "outputId": "137cc4a9-0a38-4634-fe7a-fce64724cb38"
      },
      "outputs": [
        {
          "output_type": "stream",
          "name": "stdout",
          "text": [
            "['3_iv']\n"
          ]
        }
      ],
      "source": [
        "import random\n",
        "\n",
        "questionList = [1,\"2_i\",\"2_ii\",\"3_i\",\"3_ii\",\"3_iii\",\"3_iv\",4]\n",
        "#print(random.choices(questionList, weights=(1,1,1,1,1,1,1,1,1,1,1,1,1,1,1), k=1))\n",
        "\n",
        "choiceList = []\n",
        "for i in range(1,29,1):\n",
        "  k = random.choices(questionList, weights=(1,1,1,1,1,1,1,1), k=1)\n",
        "  choiceList.append(k)\n",
        "\n",
        "#print(choiceList)\n",
        "myChoice = random.choices(questionList, weights=(1,1,1,1,1,1,1,1), k=1)\n",
        "print(myChoice)"
      ]
    }
  ]
}